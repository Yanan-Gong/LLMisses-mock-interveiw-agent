{
 "cells": [
  {
   "cell_type": "code",
   "execution_count": 1,
   "metadata": {
    "colab": {
     "base_uri": "https://localhost:8080/"
    },
    "id": "EsJITIlydH8P",
    "outputId": "5bb2821b-3533-4357-de34-ed2b9bdede6b"
   },
   "outputs": [
    {
     "name": "stdout",
     "output_type": "stream",
     "text": [
      "Collecting flask-cors\n",
      "  Downloading Flask_Cors-5.0.0-py2.py3-none-any.whl.metadata (5.5 kB)\n",
      "Requirement already satisfied: Flask>=0.9 in /opt/anaconda3/envs/llm_hackathon/lib/python3.12/site-packages (from flask-cors) (3.1.0)\n",
      "Requirement already satisfied: Werkzeug>=3.1 in /opt/anaconda3/envs/llm_hackathon/lib/python3.12/site-packages (from Flask>=0.9->flask-cors) (3.1.3)\n",
      "Requirement already satisfied: Jinja2>=3.1.2 in /opt/anaconda3/envs/llm_hackathon/lib/python3.12/site-packages (from Flask>=0.9->flask-cors) (3.1.4)\n",
      "Requirement already satisfied: itsdangerous>=2.2 in /opt/anaconda3/envs/llm_hackathon/lib/python3.12/site-packages (from Flask>=0.9->flask-cors) (2.2.0)\n",
      "Requirement already satisfied: click>=8.1.3 in /opt/anaconda3/envs/llm_hackathon/lib/python3.12/site-packages (from Flask>=0.9->flask-cors) (8.1.7)\n",
      "Requirement already satisfied: blinker>=1.9 in /opt/anaconda3/envs/llm_hackathon/lib/python3.12/site-packages (from Flask>=0.9->flask-cors) (1.9.0)\n",
      "Requirement already satisfied: MarkupSafe>=2.0 in /opt/anaconda3/envs/llm_hackathon/lib/python3.12/site-packages (from Jinja2>=3.1.2->Flask>=0.9->flask-cors) (2.1.3)\n",
      "Downloading Flask_Cors-5.0.0-py2.py3-none-any.whl (14 kB)\n",
      "Installing collected packages: flask-cors\n",
      "Successfully installed flask-cors-5.0.0\n"
     ]
    }
   ],
   "source": [
    "! pip install flask-cors"
   ]
  },
  {
   "cell_type": "code",
   "execution_count": 3,
   "metadata": {
    "colab": {
     "base_uri": "https://localhost:8080/",
     "height": 35
    },
    "id": "By4uRJg3UrQY",
    "outputId": "e08b2c64-b7ed-4e44-a9bc-1de9bfe978c4"
   },
   "outputs": [],
   "source": [
    "from flask import Flask, request, jsonify\n",
    "from flask_cors import CORS"
   ]
  },
  {
   "cell_type": "code",
   "execution_count": null,
   "metadata": {},
   "outputs": [],
   "source": [
    "\n",
    "app = Flask(__name__)\n",
    "CORS(app)  # Allow requests from React.js frontend\n",
    "\n",
    "# # Define a route for the frontend\n",
    "# @app.route('/api', methods=['POST'])\n",
    "# def api():\n",
    "#     data = request.json   # Get JSON data from the frontend\n",
    "#     user_input = data.get('input', '')  # Extract the input field\n",
    "#     # Process the user input\n",
    "#     response = {\"response\": f\"Received: {user_input}\"} # Prepare the response\n",
    "#     return jsonify(response)    # Return the response as JSON\n",
    "\n",
    "@app.route('/home')\n",
    "@app.route('/')\n",
    "def home():\n",
    "    return render_template('index.html')\n",
    "\n",
    "@app.route('/register')\n",
    "def register():\n",
    "    return render_template('register.html')\n",
    "\n",
    "@app.route('/signin')\n",
    "def signin():\n",
    "    return render_template('signin.html')\n",
    "\n",
    "@app.route('/')\n",
    "\n",
    "# Define a route for each AI agent\n",
    "@app.route('/api/agent1', methods=['POST'])\n",
    "def agent1():\n",
    "    data = request.json  # Get JSON data from the frontend\n",
    "    user_input = data.get('input', '')\n",
    "    # Process with Agent 1 logic\n",
    "    response = {\"agent\": \"agent1\", \"response\": f\"Processed by Agent 1: {user_input}\"}\n",
    "    return jsonify(response)\n",
    "\n",
    "@app.route('/api/agent2', methods=['POST'])\n",
    "def agent2():\n",
    "    data = request.json  # Get JSON data from the frontend\n",
    "    user_input = data.get('input', '')\n",
    "    # Process with Agent 2 logic\n",
    "    response = {\"agent\": \"agent2\", \"response\": f\"Processed by Agent 2: {user_input}\"}\n",
    "    return jsonify(response)\n",
    "\n",
    "if __name__ == '__main__':\n",
    "    app.run(debug=True)\n"
   ]
  },
  {
   "cell_type": "code",
   "execution_count": 2,
   "metadata": {
    "colab": {
     "base_uri": "https://localhost:8080/"
    },
    "id": "J4fYUulsdX4o",
    "outputId": "73f9afec-bfac-4c48-bcad-ce33de31e987"
   },
   "outputs": [
    {
     "name": "stdout",
     "output_type": "stream",
     "text": [
      " * Serving Flask app '__main__'\n",
      " * Debug mode: off\n"
     ]
    },
    {
     "name": "stderr",
     "output_type": "stream",
     "text": [
      "\u001b[31m\u001b[1mWARNING: This is a development server. Do not use it in a production deployment. Use a production WSGI server instead.\u001b[0m\n",
      " * Running on http://127.0.0.1:5000\n",
      "\u001b[33mPress CTRL+C to quit\u001b[0m\n",
      "127.0.0.1 - - [25/Nov/2024 05:17:50] \"GET / HTTP/1.1\" 200 -\n",
      "127.0.0.1 - - [25/Nov/2024 05:17:51] \"\u001b[33mGET /favicon.ico HTTP/1.1\u001b[0m\" 404 -\n"
     ]
    }
   ],
   "source": [
    "from flask import Flask\n",
    "# from flask_ngrok import run_with_ngrok\n",
    "\n",
    "app = Flask(__name__)\n",
    "# run_with_ngrok(app)  # Initialize ngrok when the app is run\n",
    "\n",
    "@app.route('/')\n",
    "def hello():\n",
    "    return \"Hello, my first Flask on Google Colab!\"\n",
    "\n",
    "if __name__ == '__main__':\n",
    "    app.run()"
   ]
  },
  {
   "cell_type": "code",
   "execution_count": null,
   "metadata": {},
   "outputs": [],
   "source": []
  }
 ],
 "metadata": {
  "colab": {
   "provenance": []
  },
  "kernelspec": {
   "display_name": "llm_hackathon",
   "language": "python",
   "name": "python3"
  },
  "language_info": {
   "codemirror_mode": {
    "name": "ipython",
    "version": 3
   },
   "file_extension": ".py",
   "mimetype": "text/x-python",
   "name": "python",
   "nbconvert_exporter": "python",
   "pygments_lexer": "ipython3",
   "version": "3.12.7"
  }
 },
 "nbformat": 4,
 "nbformat_minor": 0
}
