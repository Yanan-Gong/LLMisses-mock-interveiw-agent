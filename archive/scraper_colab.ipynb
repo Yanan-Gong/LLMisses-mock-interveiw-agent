{
  "nbformat": 4,
  "nbformat_minor": 0,
  "metadata": {
    "colab": {
      "provenance": []
    },
    "kernelspec": {
      "name": "python3",
      "display_name": "Python 3"
    },
    "language_info": {
      "name": "python"
    }
  },
  "cells": [
    {
      "cell_type": "code",
      "source": [],
      "metadata": {
        "id": "gR14ilzznagq"
      },
      "execution_count": null,
      "outputs": []
    },
    {
      "cell_type": "code",
      "execution_count": 1,
      "metadata": {
        "id": "VGDIpBHSyjKK"
      },
      "outputs": [],
      "source": [
        "### IGO\n",
        "import requests\n",
        "from bs4 import BeautifulSoup\n",
        "import json\n",
        "\n",
        "# Function to extract examples\n",
        "def extract_examples(soup):\n",
        "    examples = []\n",
        "    example_section = soup.find('h2', id=\"examples\")  # Adjust the tag and id to the actual section\n",
        "\n",
        "    if example_section:\n",
        "        example_list = example_section.find_next('ul')  # Assuming examples are in a list format\n",
        "        for li in example_list.find_all('li'):\n",
        "            ex_question = li.find('strong').text.strip()  # Find the question\n",
        "            ex_answer = li.find('p').text.strip()  # Find the answer (adjust as necessary)\n",
        "\n",
        "            # For simplicity, hardcoding candidate level (can be parsed from somewhere if available)\n",
        "            candidate_level = \"unspecified\"\n",
        "\n",
        "            examples.append({\n",
        "                \"ex_question\": ex_question,\n",
        "                \"candidate_level\": candidate_level,\n",
        "                \"ex_answer\": ex_answer\n",
        "            })\n",
        "\n",
        "    return examples\n",
        "\n",
        "# Main function to parse the content\n",
        "def parse_website(url):\n",
        "    return\n",
        "\n",
        "\n",
        "def get_soup(url):\n",
        "  # Download the webpage content\n",
        "    response = requests.get(url)\n",
        "    soup = BeautifulSoup(response.text, 'html.parser')\n",
        "    return soup\n",
        "\n",
        "def get_all_IGOlinks(soup):\n",
        "  # get all igo page links with the structured format content\n",
        "\n",
        "\n",
        "\n",
        "\n",
        "\n",
        "    # Dictionary to store the parsed data\n",
        "    parsed_data = {}\n",
        "\n",
        "    # Extract table of contents and corresponding text\n",
        "    toc = soup.find('div', class_='table-of-contents')  # Adjust the tag/class to the actual TOC\n",
        "    if toc:\n",
        "        for link in toc.find_all('a'):\n",
        "            section_id = link['href'].replace('#', '')\n",
        "            section_title = link.text.strip()\n",
        "\n",
        "            # Find the section by ID and extract the text\n",
        "            section = soup.find('h2', id=section_id)\n",
        "            section_content = section.find_next('p').text.strip() if section else ''\n",
        "\n",
        "            parsed_data[section_title] = section_content\n",
        "\n",
        "    # Extract examples and add to the JSON data\n",
        "    parsed_data[\"examples\"] = extract_examples(soup)\n",
        "\n",
        "    # Save the parsed data to a JSON file\n",
        "    with open('parsed_data.json', 'w') as json_file:\n",
        "        json.dump(parsed_data, json_file, indent=4)\n",
        "\n",
        "    print(\"Data extracted and saved to parsed_data.json\")\n",
        "\n",
        "\n"
      ]
    },
    {
      "cell_type": "code",
      "source": [
        "# URL to parse\n",
        "igo_sum_url = 'https://igotanoffer.com/blogs/tech/amazon-behavioral-interview'\n",
        "igo_top16q_url = 'https://igotanoffer.com/blogs/tech/behavioral-interview-questions#most-asked'\n",
        "igo_5conflict_url =  'https://igotanoffer.com/blogs/tech/tell-me-about-a-time-you-had-a-conflict#examples'\n",
        "igo_5lead_url = 'https://igotanoffer.com/blogs/tech/tell-me-about-a-time-you-showed-leadership#examples'\n",
        "\n",
        "# Run the parser\n",
        "# parse_website(url)"
      ],
      "metadata": {
        "id": "VysY3Bk-MUu_"
      },
      "execution_count": 2,
      "outputs": []
    },
    {
      "cell_type": "code",
      "source": [
        "igo16soup = get_soup(igo_top16q_url)\n",
        "igo16q = igo16soup.findAll('h3')\n"
      ],
      "metadata": {
        "id": "6oKBhmaCnb6_"
      },
      "execution_count": null,
      "outputs": []
    },
    {
      "cell_type": "code",
      "source": [
        "igo16q#[-1].text#a.get('name')"
      ],
      "metadata": {
        "colab": {
          "base_uri": "https://localhost:8080/"
        },
        "id": "5VQIVYunOSF6",
        "outputId": "8ab9b5f2-960f-4963-d028-f75e3440a0af"
      },
      "execution_count": null,
      "outputs": [
        {
          "output_type": "execute_result",
          "data": {
            "text/plain": [
              "[<h3><a name=\"team\"></a><b>1. Give me an example of when you worked well within a team.</b></h3>,\n",
              " <h3><a name=\"conflict\"></a><strong>2. Tell me about a time you dealt with conflict on a team. How did you solve it?</strong></h3>,\n",
              " <h3><a name=\"failed\"></a><strong>3. Tell me about a time you failed at work / made a mistake at work</strong></h3>,\n",
              " <h3><a name=\"challenge\"></a><b>4. Tell me about a time you faced a really hard problem / a challenge at work</b></h3>,\n",
              " <h3><a name=\"difficult\"></a><b>5. How do you deal with difficult customers/clients?</b></h3>,\n",
              " <h3><a name=\"change\"></a><b>6. Tell me about a time you adapted well to change</b></h3>,\n",
              " <h3><a name=\"leadership\"></a><b>7. Tell me about a time you led a team / showed leadership</b></h3>,\n",
              " <h3><a name=\"deadline\"></a><b>8. Tell me about a time you had to meet a tight deadline</b></h3>,\n",
              " <h3><a name=\"problem\"></a><b>9. Tell me about a time you saw a problem and took the initiative to solve it</b></h3>,\n",
              " <h3><a name=\"disagreed\"></a><b>10. Tell me about a time you disagreed with your boss</b></h3>,\n",
              " <h3><a name=\"weakness\"></a><b>11. Tell me about your biggest weakness</b></h3>,\n",
              " <h3><a name=\"feedback\"></a><b>12. Tell me about a time you received a really useful piece of feedback</b></h3>,\n",
              " <h3><a name=\"prioritize\"></a><b>13. Describe a time you had to prioritize projects under pressure</b></h3>,\n",
              " <h3><a name=\"unpopular\"></a><b>14. Tell me about a time you had to make an unpopular decision</b></h3>,\n",
              " <h3><a name=\"goals\"></a><b>15. Describe a time you had to set goals for others</b></h3>,\n",
              " <h3><a name=\"new\"></a><b>16. Tell me about a time when you had to do something at work that you didn’t know how to do / had never done before.</b></h3>,\n",
              " <h3><span style=\"font-weight: 400;\">Teamwork questions</span></h3>,\n",
              " <h3><span style=\"font-weight: 400;\">Project / program management questions</span></h3>,\n",
              " <h3><span style=\"font-weight: 400;\">Communication questions</span></h3>,\n",
              " <h3><span style=\"font-weight: 400;\">People management questions</span></h3>,\n",
              " <h3><span style=\"font-weight: 400;\">Other questions</span></h3>,\n",
              " <h3><b>3.1 STAR method</b></h3>,\n",
              " <h3><b>3.2 SPSIL method</b></h3>,\n",
              " <h3><strong>3.3 Tips for answering behavioral questions</strong></h3>,\n",
              " <h3><b>4.1 Practice by yourself</b></h3>,\n",
              " <h3><b>4.2 Do mock interviews</b></h3>]"
            ]
          },
          "metadata": {},
          "execution_count": 27
        }
      ]
    },
    {
      "cell_type": "code",
      "source": [
        "igo16q[0].find_next_sibling().find_next_sibling().find_next_sibling().text"
      ],
      "metadata": {
        "colab": {
          "base_uri": "https://localhost:8080/",
          "height": 161
        },
        "id": "RO9wMfnDcUwT",
        "outputId": "a06953ca-2da2-45fc-8876-9ee13d7f9255"
      },
      "execution_count": null,
      "outputs": [
        {
          "output_type": "execute_result",
          "data": {
            "text/plain": [
              "'\\nExample answer:\\n(Situation)\\xa0\\n\"In my previous software engineering role, our team was tasked with developing a real-time data analytics platform for a major client.\\xa0\\n(Problem)\\xa0\\nThe project had a tight timeline and required integrating multiple complex systems, including data ingestion, processing, and visualization components.\\n(Solution)\\xa0\\nTo be as efficient as possible, we adopted an Agile development approach. We held daily stand-up meetings to discuss progress, address challenges, and prioritize tasks. I took on the role of the Scrum Master, facilitating the meetings and making sure that everyone had a clear understanding of their responsibilities.\\nOne particular challenge we faced was the need to integrate a third-party data visualization library with our custom backend solution. I took the initiative to organize a brainstorming session with the frontend and backend developers, UX designers, and data scientists.\\nTogether we explored different integration approaches and identified potential roadblocks.\\n(Impact)\\xa0\\nWe were successful in delivering the real-time data analytics platform within the given timeline. What’s more, the client was delighted with the platform’s user-friendly interface, real-time insights, and advanced visualizations.\\n(Lessons)\\nThis experience taught me how important communication skills are in my role. As a software engineer, I had previously thought that the most important skill I had was my ability as a programmer. But this project taught me that by communicating well with other people and other teams, I could have a far greater impact than I could just through writing code.”\\n'"
            ],
            "application/vnd.google.colaboratory.intrinsic+json": {
              "type": "string"
            }
          },
          "metadata": {},
          "execution_count": 31
        }
      ]
    },
    {
      "cell_type": "code",
      "source": [
        "data_16q=[]\n",
        "\n",
        "for i,q in enumerate(igo16q[:16]):\n",
        "  q_kw = q.a.get('name')\n",
        "  q_text = q.text\n",
        "  tips = []\n",
        "  answer = []\n",
        "  next_ele = q.find_next_sibling()\n",
        "  while next_ele and next_ele.name != 'h3':\n",
        "    if next_ele.name=='p':\n",
        "      tips.append(next_ele.text)\n",
        "    elif next_ele.name == 'div':\n",
        "      answer.append(next_ele.text)\n",
        "    next_ele = next_ele.find_next_sibling()\n",
        "  q_data = {\"question_id\":i,\n",
        "            \"question_keyword\":q_kw,\n",
        "            \"question_text\":q_text,\n",
        "            \"tips\":tips,\n",
        "            \"example_answer\":answer}\n",
        "  data_16q.append(q_data)\n",
        "with open('amz_top16qa.json', 'w') as json_file:\n",
        "  json.dump(data_16q, json_file, indent=4)\n",
        "  #.span.text"
      ],
      "metadata": {
        "id": "EmyBRzE8OQn6"
      },
      "execution_count": null,
      "outputs": []
    },
    {
      "cell_type": "code",
      "source": [
        "soup5c = get_soup(igo_5conflict_url)\n",
        "# soup5c"
      ],
      "metadata": {
        "id": "X9JYaO7TOf5s"
      },
      "execution_count": 3,
      "outputs": []
    },
    {
      "cell_type": "code",
      "source": [
        "soup5l = get_soup(igo_5lead_url)"
      ],
      "metadata": {
        "id": "iPChEjniPFBQ"
      },
      "execution_count": 51,
      "outputs": []
    },
    {
      "cell_type": "code",
      "source": [
        "q_texts = []\n",
        "q_level = []\n",
        "a_texts = []\n",
        "a_comments = []\n",
        "\n",
        "example_section = soup5l.find('a',{'name':'examples'}).parent #soup5c\n",
        "next_ele = example_section.find_next_sibling('h3')\n",
        "while next_ele and next_ele.name != 'h2':\n",
        "  if next_ele.name =='h3':\n",
        "    # q_texts.append( next_ele.b.text.strip())\n",
        "    # q_level.append(next_ele.text.replace(next_ele.b.text,'').strip())\n",
        "    q_texts.append(next_ele.text.split(':')[0].strip())\n",
        "    q_level.append(next_ele.text.split(':')[1].strip())\n",
        "  elif next_ele.name == 'div':\n",
        "    a_texts.append(next_ele.text.strip())\n",
        "  elif next_ele.name=='p':\n",
        "    a_comments.append(next_ele.text.strip())\n",
        "\n",
        "  next_ele = next_ele.find_next_sibling()\n",
        "\n",
        "# conflict_5data =\n",
        "lead_5data = [{'question_id':i, 'qustion_text':q_texts[i],\n",
        "                   'question_level':q_level[i],\n",
        "                   'example_answer':a_texts[i],\n",
        "                   'comment_on_answer':a_comments[i]}\n",
        "                  for i in range(len(q_texts))]\n",
        "# with open('amz_conflict5qa.json', 'w') as json_file:\n",
        "  # json.dump(conflict_5data, json_file, indent=4)\n",
        "with open('amz_leadership5qa.json', 'w') as json_file:\n",
        "    json.dump(lead_5data, json_file, indent=4)"
      ],
      "metadata": {
        "id": "ntxWwCgJMbqw"
      },
      "execution_count": 56,
      "outputs": []
    },
    {
      "cell_type": "code",
      "source": [
        "lead_5data\n"
      ],
      "metadata": {
        "id": "SiVG1NNTPEi0",
        "outputId": "6865c909-0299-4f00-c65e-ab7c9f5609dd",
        "colab": {
          "base_uri": "https://localhost:8080/"
        }
      },
      "execution_count": 55,
      "outputs": [
        {
          "output_type": "execute_result",
          "data": {
            "text/plain": [
              "[{'question_id': 0,\n",
              "  'qustion_text': <function str.strip(chars=None, /)>,\n",
              "  'question_level': <function str.strip(chars=None, /)>,\n",
              "  'example_answer': \"Example answer:\\n(Situation)\\xa0\\n“As a level 3 SWE at a small start-up, I faced a critical project where our database infrastructure encountered unexpected scalability issues.\\xa0\\n(Problem)\\nThe project involved migrating a large customer dataset, and the technical challenges threatened the project's timely completion. To make matters worse, our engineering manager was away on holiday and there was no other senior figure at the company with a technical background.\\n(Solution)\\nI was the most experienced member of our team and so felt that I should take the lead to rectify the situation, although I was a bit nervous as I’d never led a team before. I got the team together and assigned specific tasks to each of my colleagues based on their expertise.\\nAs we worked to introduce improvements, I checked in regularly with the company CEO and outlined the revised timeline based on the revised optimization plan.\\n(Impact)\\xa0\\nEveryone worked really efficiently and we successfully resolved the scalability issues within the project timeline. The migration was completed seamlessly, and the system performance improved significantly.\\n(Lessons)\\nThis project gave me a lot of confidence in my ability to lead people and projects. I also realized important soft skills are - I love coding but on this project, I found that communication and organizational skills were much more important. I’ve since made an effort to develop these skills instead of just focusing on my technical abilities.”\",\n",
              "  'comment_on_answer': 'This is a strong answer for a candidate who has relevant work experience but has never held a leadership position. The answer demonstrates initiative and strong communication skills.'},\n",
              " {'question_id': 1,\n",
              "  'qustion_text': <function str.strip(chars=None, /)>,\n",
              "  'question_level': <function str.strip(chars=None, /)>,\n",
              "  'example_answer': 'Example answer:\\n(Situation)\\n\"I spent three years working at a small start up, and after an initial period of rapid growth, revenue dropped off and we started losing money.\\n(Problem)\\nI was leading a team of five, and understandably people were extremely worried about their jobs. I also had pressure from the CEO to implement cost-cutting and revenue-generating measures that would help us get back to break-even as soon as possible.\\n(Solution)\\nMy primary focus was on keeping the team motivated and productive, even in the face of uncertainty. My first action was to schedule a meeting to specifically discuss the situation and provide an honest and transparent overview of what was happening.\\nI acknowledged the challenges that the company was facing, but that our team was essential to the company\\'s success. I said that if they had any questions they could always ask me. We also came up with a list of team actions we could take that would reduce costs, and over the next 6 months I arranged bi-weekly updates with the CEO to show how we were progressing.\\xa0\\n(Impact)\\nThrough these actions my team played a major part in getting the company back on track, and I made sure this was visible to the CEO. There were no lay-offs in our area and morale and productivity stayed strong.\\n(Lessons)\\nIt was a difficult experience to go through but I learned that when you’re managing a team, constant communication is vital in a crisis. People always have doubts and hypothetical scenarios you hadn\\'t even thought of, and it’s really useful to provide a space where you can listen to them, show empathy and give them a more accurate picture of what’s going on, even if that picture is incomplete.”',\n",
              "  'comment_on_answer': 'The candidate demonstrates key leadership skills such as empathy, honesty, respect, ownership and calmness under pressure. They demonstrate that they are a leader who takes steps to look after their team and are present and available in a crisis.'},\n",
              " {'question_id': 2,\n",
              "  'qustion_text': <function str.strip(chars=None, /)>,\n",
              "  'question_level': <function str.strip(chars=None, /)>,\n",
              "  'example_answer': 'Example answer:\\n(Situation)\\n“In my last position, I was on a team of analysts working on a live deal to try to bring on a new client. We hadn’t worked with them before, and it was a big name, so this was a huge opportunity for the company.\\n(Problem)\\nOne day before a key meeting with the potential client, the associate taking the lead on the deal got sick. As her symptoms developed, it became clear that she would not be able to attend the meeting and pitch our services to the new client. We had to decide whether to try to reschedule the meeting, or to go ahead without her leadership.\\n(Solution)\\nI knew that rescheduling the meeting at the last minute would make us appear unreliable to the potential client, so I called the other analysts and persuaded them that we should maintain the meeting and that I could give the pitch. They agreed, and we rehearsed the pitch together that evening.\\nThe next day, I gave the pitch and was able to answer the potential client’s questions, with help from the other analysts. I was able to remember most of what we prepared with the associate, and my teammates were able to support me in the other areas.\\n(Impact)\\nThe client asked for extra time to consider the deal, but did ultimately come back to us and accept. They are now one of our regular clients, and through that relationship alone we’ve brought in a little over $200,000 in revenue for the company.\\n(Lessons)\\nSo I learned how important it is to prepare in advance for all eventualities. Had we set up a contingency plan prior to the pitch, the associate’s illness would not have created such last-minute stress leading up to the meeting. So now I work to stay aware of needs outside of my job description, and to anticipate risks ahead of time.”',\n",
              "  'comment_on_answer': 'Here the candidate uses an example where they stepped up to be a leader. The answer demonstrates a great deal of ownership and initiative. It also suggests the candidate has good persuasion skills, which an interviewer might want to follow up on.'},\n",
              " {'question_id': 3,\n",
              "  'qustion_text': <function str.strip(chars=None, /)>,\n",
              "  'question_level': <function str.strip(chars=None, /)>,\n",
              "  'example_answer': 'Example answer:\\n(Situation and problem)\\nI’m a keen basketball player but at the university I went to in the UK, there were no basketball teams. So I decided to take the initiative and start a basketball league on campus.\\xa0\\n(Problem)\\nMy goal was to get at least 6 teams and have regular, competitive games each week, plus social events so people could make new friends and feel part of a community.\\n(Solution)\\xa0\\nAt first I did everything myself - spread the word around campus to get sign ups, got payments and booked the pitches, and ran a “join a team” trials event. Within weeks the league was up and running with 10 teams, which was fantastic.\\nHowever, it was taking a lot of my time and so I needed to start delegating. I asked for volunteers to fill the roles of social secretary, treasurer, etc. That took some load off me and was also beneficial in that they brought in some great skills that I didn’t have.\\n(Impact)\\nThe league and everything that went with it became my most treasured university experience, despite my team finishing last. Three years later, it’s still running and a total of almost 1000 students have taken part in the games and social events.\\n(Lessons)\\nThis experience taught me that with a bit of initiative, you can make big things happen. Also, being in charge of something that involved so many people gave me a lot more confidence in other aspects of my life and work.\\xa0\\nFinally, it also taught me how important it is as a leader to know how to delegate, not only to give yourself more time, but so you can benefit from other people’s skills and perspectives.\"',\n",
              "  'comment_on_answer': 'This is a great leadership example from someone without much professional work experience. Their example shows a lot of initiative and drive, as well as organizational skills and the ability to delegate.'},\n",
              " {'question_id': 4,\n",
              "  'qustion_text': <function str.strip(chars=None, /)>,\n",
              "  'question_level': <function str.strip(chars=None, /)>,\n",
              "  'example_answer': 'Example answer:\\n(Situation)\\nRecently in my current role as an intern, Mo, joined our team. I had a very high workload at the time and so was grateful to see an extra pair of hands join the team.\\xa0\\n(Problem)\\nHowever, Mo lacked experience in some of the key tools we used daily, such as GitHub and Django. He was also very shy. After the first week, he hadn’t completed many of the tasks he was given and people stopped asking for his help. Our manager was so busy that he didn’t really pay much attention to the situation.\\n(Solution)\\xa0\\nI decided to sit with Mo at lunch and ask him about his experience with coding. I gradually realized that while he’d never worked in a team like ours before, he was a talented programmer. I told him what I was working on and he seemed confident he could help.\\nI delegated some of my tasks to Mo over the next couple of days, making it clear that if he didn’t understand something, he should just ask. He completed the tasks very well. By now he came to sit with me every lunchtime and was starting to come out of his shell. I used the time he’d saved me to show him some things on GitHub and Django, and I made sure I told everyone about the great job he’d done for me.\\xa0\\n(Impact)\\nThe rest of the team started sending him tasks again and this time Mo completed the tasks much more successfully, occasionally asking me for help. Three months later, his internship ended and he joined the team full-time.\\n(Lessons)\\nThe experience with Mo made me realize that when somebody joins a team, it’s really important that they have someone to go to when they don’t understand something or have a problem. It also taught me how crucial it is to take the time to ask and listen, instead of dismissing people after a bad first impression.”',\n",
              "  'comment_on_answer': 'This candidate demonstrates various leadership skills with this example: in particular a lot of initiative and empathy. The interviewer could easily imagine this candidate as a future manager who will do a great job helping his team members reach their potential.'}]"
            ]
          },
          "metadata": {},
          "execution_count": 55
        }
      ]
    },
    {
      "cell_type": "code",
      "source": [],
      "metadata": {
        "id": "tTw7QdEXPEDj"
      },
      "execution_count": null,
      "outputs": []
    },
    {
      "cell_type": "markdown",
      "source": [
        "## Interview query"
      ],
      "metadata": {
        "id": "ZvoNRwEOnc7s"
      }
    },
    {
      "cell_type": "code",
      "source": [
        "!pip install selenium beautifulsoup4"
      ],
      "metadata": {
        "colab": {
          "base_uri": "https://localhost:8080/"
        },
        "collapsed": true,
        "id": "qNYqsyAjnmWE",
        "outputId": "df83df75-b303-4c69-888e-65c2a4b6a6e4"
      },
      "execution_count": null,
      "outputs": [
        {
          "output_type": "stream",
          "name": "stdout",
          "text": [
            "Requirement already satisfied: selenium in /usr/local/lib/python3.10/dist-packages (4.26.1)\n",
            "Requirement already satisfied: beautifulsoup4 in /usr/local/lib/python3.10/dist-packages (4.12.3)\n",
            "Requirement already satisfied: urllib3<3,>=1.26 in /usr/local/lib/python3.10/dist-packages (from urllib3[socks]<3,>=1.26->selenium) (2.2.3)\n",
            "Requirement already satisfied: trio~=0.17 in /usr/local/lib/python3.10/dist-packages (from selenium) (0.27.0)\n",
            "Requirement already satisfied: trio-websocket~=0.9 in /usr/local/lib/python3.10/dist-packages (from selenium) (0.11.1)\n",
            "Requirement already satisfied: certifi>=2021.10.8 in /usr/local/lib/python3.10/dist-packages (from selenium) (2024.8.30)\n",
            "Requirement already satisfied: typing_extensions~=4.9 in /usr/local/lib/python3.10/dist-packages (from selenium) (4.12.2)\n",
            "Requirement already satisfied: websocket-client~=1.8 in /usr/local/lib/python3.10/dist-packages (from selenium) (1.8.0)\n",
            "Requirement already satisfied: soupsieve>1.2 in /usr/local/lib/python3.10/dist-packages (from beautifulsoup4) (2.6)\n",
            "Requirement already satisfied: attrs>=23.2.0 in /usr/local/lib/python3.10/dist-packages (from trio~=0.17->selenium) (24.2.0)\n",
            "Requirement already satisfied: sortedcontainers in /usr/local/lib/python3.10/dist-packages (from trio~=0.17->selenium) (2.4.0)\n",
            "Requirement already satisfied: idna in /usr/local/lib/python3.10/dist-packages (from trio~=0.17->selenium) (3.10)\n",
            "Requirement already satisfied: outcome in /usr/local/lib/python3.10/dist-packages (from trio~=0.17->selenium) (1.3.0.post0)\n",
            "Requirement already satisfied: sniffio>=1.3.0 in /usr/local/lib/python3.10/dist-packages (from trio~=0.17->selenium) (1.3.1)\n",
            "Requirement already satisfied: exceptiongroup in /usr/local/lib/python3.10/dist-packages (from trio~=0.17->selenium) (1.2.2)\n",
            "Requirement already satisfied: wsproto>=0.14 in /usr/local/lib/python3.10/dist-packages (from trio-websocket~=0.9->selenium) (1.2.0)\n",
            "Requirement already satisfied: pysocks!=1.5.7,<2.0,>=1.5.6 in /usr/local/lib/python3.10/dist-packages (from urllib3[socks]<3,>=1.26->selenium) (1.7.1)\n",
            "Requirement already satisfied: h11<1,>=0.9.0 in /usr/local/lib/python3.10/dist-packages (from wsproto>=0.14->trio-websocket~=0.9->selenium) (0.14.0)\n"
          ]
        }
      ]
    },
    {
      "cell_type": "code",
      "source": [
        "! pip install -q google-colab-selenium"
      ],
      "metadata": {
        "colab": {
          "base_uri": "https://localhost:8080/"
        },
        "id": "5-QQNmsho4Q7",
        "outputId": "94baac3c-3cab-47b1-fde2-e53297106db9"
      },
      "execution_count": null,
      "outputs": [
        {
          "output_type": "stream",
          "name": "stdout",
          "text": [
            "\u001b[2K   \u001b[90m━━━━━━━━━━━━━━━━━━━━━━━━━━━━━━━━━━━━━━━━\u001b[0m \u001b[32m9.7/9.7 MB\u001b[0m \u001b[31m54.5 MB/s\u001b[0m eta \u001b[36m0:00:00\u001b[0m\n",
            "\u001b[2K   \u001b[90m━━━━━━━━━━━━━━━━━━━━━━━━━━━━━━━━━━━━━━━━\u001b[0m \u001b[32m481.7/481.7 kB\u001b[0m \u001b[31m24.4 MB/s\u001b[0m eta \u001b[36m0:00:00\u001b[0m\n",
            "\u001b[?25h"
          ]
        }
      ]
    },
    {
      "cell_type": "code",
      "source": [
        "# from selenium import webdriver\n",
        "# from selenium.webdriver.common.by import By\n",
        "# from selenium.webdriver.chrome.service import Service\n",
        "\n",
        "import google_colab_selenium as gs\n",
        "\n",
        "from bs4 import BeautifulSoup\n",
        "import time\n",
        "import json\n",
        "\n",
        "# # Set up Selenium webdriver (Make sure you have the right path to the chromedriver)\n",
        "# service = Service('/path/to/chromedriver')  # Change to your chromedriver path\n",
        "# driver = webdriver.Chrome(service=service)\n",
        "driver = gs.Chrome()\n",
        "\n",
        "# URL of the page with the list of questions\n",
        "url = 'https://www.interviewquery.com/questions?searchQuery=&searchQuestionTag=&searchCompany=&ordering=Recommended&orderingDirection=ASC&pageSize=20&page=0&tags=Behavioral'\n",
        "\n",
        "# Open the webpage\n",
        "driver.get(url)\n",
        "time.sleep(3)  # Wait for the page to fully load\n",
        "\n",
        "# Extract all the question links\n",
        "question_links = driver.find_elements(By.CLASS_NAME,\"question_row_link__Y2_OK\")\n"
      ],
      "metadata": {
        "colab": {
          "base_uri": "https://localhost:8080/",
          "height": 38
        },
        "collapsed": true,
        "id": "DlL426-LNh4U",
        "outputId": "bde378fd-ad55-4884-daf8-299fb1a408fb"
      },
      "execution_count": null,
      "outputs": [
        {
          "output_type": "display_data",
          "data": {
            "text/plain": [
              "<IPython.core.display.HTML object>"
            ],
            "text/html": [
              "\n",
              "            <div class=\"spinner-container\">\n",
              "                <div class=\"spinner\" id=\"a2040ed0-7570-44b5-b3a3-101b061bcee2-circle\"></div>\n",
              "                <div class=\"spinner-text\" id=\"a2040ed0-7570-44b5-b3a3-101b061bcee2-text\">Initializing Chromedriver</div>\n",
              "            </div>\n",
              "            <style>\n",
              "                @keyframes spin {\n",
              "                    from { transform: rotate(0deg); }\n",
              "                    to { transform: rotate(360deg); }\n",
              "                }\n",
              "\n",
              "                .spinner-container {\n",
              "                    display: flex;\n",
              "                    align-items: center;\n",
              "                    margin-bottom: 3px;\n",
              "                }\n",
              "\n",
              "                .spinner {\n",
              "                    border: 3px solid rgba(0, 0, 0, 0.1);\n",
              "                    border-left-color: lightblue;\n",
              "                    border-radius: 50%;\n",
              "                    width: 12px;\n",
              "                    height: 12px;\n",
              "                    animation: spin 1s linear infinite;\n",
              "                }\n",
              "\n",
              "                .spinner-text {\n",
              "                    padding-left: 6px;\n",
              "                }\n",
              "            </style>\n",
              "        "
            ]
          },
          "metadata": {}
        },
        {
          "output_type": "display_data",
          "data": {
            "text/plain": [
              "<IPython.core.display.Javascript object>"
            ],
            "application/javascript": [
              "\n",
              "            const element = document.getElementById(\"a2040ed0-7570-44b5-b3a3-101b061bcee2-circle\");\n",
              "            element.style.border = \"3px solid limegreen\";\n",
              "            element.style.animation = \"none\";\n",
              "\n",
              "            const text = document.getElementById(\"a2040ed0-7570-44b5-b3a3-101b061bcee2-text\");\n",
              "            text.innerText = \"Initialized Chromedriver\";\n",
              "        "
            ]
          },
          "metadata": {}
        }
      ]
    },
    {
      "cell_type": "code",
      "source": [
        "question_links[0].get_attribute('href')"
      ],
      "metadata": {
        "colab": {
          "base_uri": "https://localhost:8080/",
          "height": 35
        },
        "id": "p0ZjVQyDnwwk",
        "outputId": "1cdec1ca-6bd1-4313-dce9-7cb51691ac92"
      },
      "execution_count": null,
      "outputs": [
        {
          "output_type": "execute_result",
          "data": {
            "text/plain": [
              "'https://www.interviewquery.com/questions/disagreeing-colleagues'"
            ],
            "application/vnd.google.colaboratory.intrinsic+json": {
              "type": "string"
            }
          },
          "metadata": {},
          "execution_count": 20
        }
      ]
    },
    {
      "cell_type": "code",
      "source": [
        "\n",
        "question_links[0].get_attribute('href')"
      ],
      "metadata": {
        "colab": {
          "base_uri": "https://localhost:8080/",
          "height": 704
        },
        "id": "RmhqG0ovxHnT",
        "outputId": "ee4060ad-b1b2-424c-c82e-849d1f7dafb7"
      },
      "execution_count": null,
      "outputs": [
        {
          "output_type": "error",
          "ename": "StaleElementReferenceException",
          "evalue": "Message: stale element reference: stale element not found\n  (Session info: chrome=130.0.6723.116); For documentation on this error, please visit: https://www.selenium.dev/documentation/webdriver/troubleshooting/errors#stale-element-reference-exception\nStacktrace:\n#0 0x5c63dec0b6da <unknown>\n#1 0x5c63de71ff80 <unknown>\n#2 0x5c63de72fdab <unknown>\n#3 0x5c63de72657c <unknown>\n#4 0x5c63de7266ad <unknown>\n#5 0x5c63de724919 <unknown>\n#6 0x5c63de727c34 <unknown>\n#7 0x5c63de7b061c <unknown>\n#8 0x5c63de790bb2 <unknown>\n#9 0x5c63de7af69d <unknown>\n#10 0x5c63de790953 <unknown>\n#11 0x5c63de75f72e <unknown>\n#12 0x5c63de76079e <unknown>\n#13 0x5c63debd6f1b <unknown>\n#14 0x5c63debdaeb8 <unknown>\n#15 0x5c63debc442c <unknown>\n#16 0x5c63debdba37 <unknown>\n#17 0x5c63deba8fef <unknown>\n#18 0x5c63debf9ad8 <unknown>\n#19 0x5c63debf9ca0 <unknown>\n#20 0x5c63dec0a556 <unknown>\n#21 0x0e4621e7aac3 <unknown>\n",
          "traceback": [
            "\u001b[0;31m---------------------------------------------------------------------------\u001b[0m",
            "\u001b[0;31mStaleElementReferenceException\u001b[0m            Traceback (most recent call last)",
            "\u001b[0;32m<ipython-input-27-00bca23f8fdd>\u001b[0m in \u001b[0;36m<cell line: 1>\u001b[0;34m()\u001b[0m\n\u001b[0;32m----> 1\u001b[0;31m \u001b[0mquestion_links\u001b[0m\u001b[0;34m[\u001b[0m\u001b[0;36m0\u001b[0m\u001b[0;34m]\u001b[0m\u001b[0;34m.\u001b[0m\u001b[0mget_attribute\u001b[0m\u001b[0;34m(\u001b[0m\u001b[0;34m'href'\u001b[0m\u001b[0;34m)\u001b[0m\u001b[0;34m\u001b[0m\u001b[0;34m\u001b[0m\u001b[0m\n\u001b[0m",
            "\u001b[0;32m/usr/local/lib/python3.10/dist-packages/selenium/webdriver/remote/webelement.py\u001b[0m in \u001b[0;36mget_attribute\u001b[0;34m(self, name)\u001b[0m\n\u001b[1;32m    176\u001b[0m         \u001b[0;32mif\u001b[0m \u001b[0mgetAttribute_js\u001b[0m \u001b[0;32mis\u001b[0m \u001b[0;32mNone\u001b[0m\u001b[0;34m:\u001b[0m\u001b[0;34m\u001b[0m\u001b[0;34m\u001b[0m\u001b[0m\n\u001b[1;32m    177\u001b[0m             \u001b[0m_load_js\u001b[0m\u001b[0;34m(\u001b[0m\u001b[0;34m)\u001b[0m\u001b[0;34m\u001b[0m\u001b[0;34m\u001b[0m\u001b[0m\n\u001b[0;32m--> 178\u001b[0;31m         attribute_value = self.parent.execute_script(\n\u001b[0m\u001b[1;32m    179\u001b[0m             \u001b[0;34mf\"/* getAttribute */return ({getAttribute_js}).apply(null, arguments);\"\u001b[0m\u001b[0;34m,\u001b[0m \u001b[0mself\u001b[0m\u001b[0;34m,\u001b[0m \u001b[0mname\u001b[0m\u001b[0;34m\u001b[0m\u001b[0;34m\u001b[0m\u001b[0m\n\u001b[1;32m    180\u001b[0m         )\n",
            "\u001b[0;32m/usr/local/lib/python3.10/dist-packages/selenium/webdriver/remote/webdriver.py\u001b[0m in \u001b[0;36mexecute_script\u001b[0;34m(self, script, *args)\u001b[0m\n\u001b[1;32m    438\u001b[0m         \u001b[0mcommand\u001b[0m \u001b[0;34m=\u001b[0m \u001b[0mCommand\u001b[0m\u001b[0;34m.\u001b[0m\u001b[0mW3C_EXECUTE_SCRIPT\u001b[0m\u001b[0;34m\u001b[0m\u001b[0;34m\u001b[0m\u001b[0m\n\u001b[1;32m    439\u001b[0m \u001b[0;34m\u001b[0m\u001b[0m\n\u001b[0;32m--> 440\u001b[0;31m         \u001b[0;32mreturn\u001b[0m \u001b[0mself\u001b[0m\u001b[0;34m.\u001b[0m\u001b[0mexecute\u001b[0m\u001b[0;34m(\u001b[0m\u001b[0mcommand\u001b[0m\u001b[0;34m,\u001b[0m \u001b[0;34m{\u001b[0m\u001b[0;34m\"script\"\u001b[0m\u001b[0;34m:\u001b[0m \u001b[0mscript\u001b[0m\u001b[0;34m,\u001b[0m \u001b[0;34m\"args\"\u001b[0m\u001b[0;34m:\u001b[0m \u001b[0mconverted_args\u001b[0m\u001b[0;34m}\u001b[0m\u001b[0;34m)\u001b[0m\u001b[0;34m[\u001b[0m\u001b[0;34m\"value\"\u001b[0m\u001b[0;34m]\u001b[0m\u001b[0;34m\u001b[0m\u001b[0;34m\u001b[0m\u001b[0m\n\u001b[0m\u001b[1;32m    441\u001b[0m \u001b[0;34m\u001b[0m\u001b[0m\n\u001b[1;32m    442\u001b[0m     \u001b[0;32mdef\u001b[0m \u001b[0mexecute_async_script\u001b[0m\u001b[0;34m(\u001b[0m\u001b[0mself\u001b[0m\u001b[0;34m,\u001b[0m \u001b[0mscript\u001b[0m\u001b[0;34m:\u001b[0m \u001b[0mstr\u001b[0m\u001b[0;34m,\u001b[0m \u001b[0;34m*\u001b[0m\u001b[0margs\u001b[0m\u001b[0;34m)\u001b[0m\u001b[0;34m:\u001b[0m\u001b[0;34m\u001b[0m\u001b[0;34m\u001b[0m\u001b[0m\n",
            "\u001b[0;32m/usr/local/lib/python3.10/dist-packages/selenium/webdriver/remote/webdriver.py\u001b[0m in \u001b[0;36mexecute\u001b[0;34m(self, driver_command, params)\u001b[0m\n\u001b[1;32m    378\u001b[0m         \u001b[0mresponse\u001b[0m \u001b[0;34m=\u001b[0m \u001b[0mself\u001b[0m\u001b[0;34m.\u001b[0m\u001b[0mcommand_executor\u001b[0m\u001b[0;34m.\u001b[0m\u001b[0mexecute\u001b[0m\u001b[0;34m(\u001b[0m\u001b[0mdriver_command\u001b[0m\u001b[0;34m,\u001b[0m \u001b[0mparams\u001b[0m\u001b[0;34m)\u001b[0m\u001b[0;34m\u001b[0m\u001b[0;34m\u001b[0m\u001b[0m\n\u001b[1;32m    379\u001b[0m         \u001b[0;32mif\u001b[0m \u001b[0mresponse\u001b[0m\u001b[0;34m:\u001b[0m\u001b[0;34m\u001b[0m\u001b[0;34m\u001b[0m\u001b[0m\n\u001b[0;32m--> 380\u001b[0;31m             \u001b[0mself\u001b[0m\u001b[0;34m.\u001b[0m\u001b[0merror_handler\u001b[0m\u001b[0;34m.\u001b[0m\u001b[0mcheck_response\u001b[0m\u001b[0;34m(\u001b[0m\u001b[0mresponse\u001b[0m\u001b[0;34m)\u001b[0m\u001b[0;34m\u001b[0m\u001b[0;34m\u001b[0m\u001b[0m\n\u001b[0m\u001b[1;32m    381\u001b[0m             \u001b[0mresponse\u001b[0m\u001b[0;34m[\u001b[0m\u001b[0;34m\"value\"\u001b[0m\u001b[0;34m]\u001b[0m \u001b[0;34m=\u001b[0m \u001b[0mself\u001b[0m\u001b[0;34m.\u001b[0m\u001b[0m_unwrap_value\u001b[0m\u001b[0;34m(\u001b[0m\u001b[0mresponse\u001b[0m\u001b[0;34m.\u001b[0m\u001b[0mget\u001b[0m\u001b[0;34m(\u001b[0m\u001b[0;34m\"value\"\u001b[0m\u001b[0;34m,\u001b[0m \u001b[0;32mNone\u001b[0m\u001b[0;34m)\u001b[0m\u001b[0;34m)\u001b[0m\u001b[0;34m\u001b[0m\u001b[0;34m\u001b[0m\u001b[0m\n\u001b[1;32m    382\u001b[0m             \u001b[0;32mreturn\u001b[0m \u001b[0mresponse\u001b[0m\u001b[0;34m\u001b[0m\u001b[0;34m\u001b[0m\u001b[0m\n",
            "\u001b[0;32m/usr/local/lib/python3.10/dist-packages/selenium/webdriver/remote/errorhandler.py\u001b[0m in \u001b[0;36mcheck_response\u001b[0;34m(self, response)\u001b[0m\n\u001b[1;32m    227\u001b[0m                 \u001b[0malert_text\u001b[0m \u001b[0;34m=\u001b[0m \u001b[0mvalue\u001b[0m\u001b[0;34m[\u001b[0m\u001b[0;34m\"alert\"\u001b[0m\u001b[0;34m]\u001b[0m\u001b[0;34m.\u001b[0m\u001b[0mget\u001b[0m\u001b[0;34m(\u001b[0m\u001b[0;34m\"text\"\u001b[0m\u001b[0;34m)\u001b[0m\u001b[0;34m\u001b[0m\u001b[0;34m\u001b[0m\u001b[0m\n\u001b[1;32m    228\u001b[0m             \u001b[0;32mraise\u001b[0m \u001b[0mexception_class\u001b[0m\u001b[0;34m(\u001b[0m\u001b[0mmessage\u001b[0m\u001b[0;34m,\u001b[0m \u001b[0mscreen\u001b[0m\u001b[0;34m,\u001b[0m \u001b[0mstacktrace\u001b[0m\u001b[0;34m,\u001b[0m \u001b[0malert_text\u001b[0m\u001b[0;34m)\u001b[0m  \u001b[0;31m# type: ignore[call-arg]  # mypy is not smart enough here\u001b[0m\u001b[0;34m\u001b[0m\u001b[0;34m\u001b[0m\u001b[0m\n\u001b[0;32m--> 229\u001b[0;31m         \u001b[0;32mraise\u001b[0m \u001b[0mexception_class\u001b[0m\u001b[0;34m(\u001b[0m\u001b[0mmessage\u001b[0m\u001b[0;34m,\u001b[0m \u001b[0mscreen\u001b[0m\u001b[0;34m,\u001b[0m \u001b[0mstacktrace\u001b[0m\u001b[0;34m)\u001b[0m\u001b[0;34m\u001b[0m\u001b[0;34m\u001b[0m\u001b[0m\n\u001b[0m",
            "\u001b[0;31mStaleElementReferenceException\u001b[0m: Message: stale element reference: stale element not found\n  (Session info: chrome=130.0.6723.116); For documentation on this error, please visit: https://www.selenium.dev/documentation/webdriver/troubleshooting/errors#stale-element-reference-exception\nStacktrace:\n#0 0x5c63dec0b6da <unknown>\n#1 0x5c63de71ff80 <unknown>\n#2 0x5c63de72fdab <unknown>\n#3 0x5c63de72657c <unknown>\n#4 0x5c63de7266ad <unknown>\n#5 0x5c63de724919 <unknown>\n#6 0x5c63de727c34 <unknown>\n#7 0x5c63de7b061c <unknown>\n#8 0x5c63de790bb2 <unknown>\n#9 0x5c63de7af69d <unknown>\n#10 0x5c63de790953 <unknown>\n#11 0x5c63de75f72e <unknown>\n#12 0x5c63de76079e <unknown>\n#13 0x5c63debd6f1b <unknown>\n#14 0x5c63debdaeb8 <unknown>\n#15 0x5c63debc442c <unknown>\n#16 0x5c63debdba37 <unknown>\n#17 0x5c63deba8fef <unknown>\n#18 0x5c63debf9ad8 <unknown>\n#19 0x5c63debf9ca0 <unknown>\n#20 0x5c63dec0a556 <unknown>\n#21 0x0e4621e7aac3 <unknown>\n"
          ]
        }
      ]
    },
    {
      "cell_type": "code",
      "source": [
        "for i,q in enumerate(question_links):\n",
        "  try:\n",
        "     print(q.get_attribute('href'))\n",
        "  except:\n",
        "    print(i)"
      ],
      "metadata": {
        "colab": {
          "base_uri": "https://localhost:8080/"
        },
        "id": "FQ-Gxg8LwLW3",
        "outputId": "e875dce7-0790-4987-9b55-0602a906685b"
      },
      "execution_count": null,
      "outputs": [
        {
          "output_type": "stream",
          "name": "stdout",
          "text": [
            "https://www.interviewquery.com/questions/disagreeing-colleagues\n",
            "https://www.interviewquery.com/questions/handling-conflicts\n",
            "https://www.interviewquery.com/questions/prioritizing-deadlines\n",
            "https://www.interviewquery.com/questions/why-do-you-want-to-work-with-us\n",
            "https://www.interviewquery.com/questions/simple-explanations\n",
            "https://www.interviewquery.com/questions/hurdles-in-data-projects\n",
            "https://www.interviewquery.com/questions/boosting-instagram-stories\n",
            "https://www.interviewquery.com/questions/data-cleaning-experiences\n",
            "https://www.interviewquery.com/questions/accessible-data\n",
            "https://www.interviewquery.com/questions/presentations-and-insights\n",
            "https://www.interviewquery.com/questions/stakeholder-communication\n",
            "https://www.interviewquery.com/questions/exceeding-expectations\n",
            "https://www.interviewquery.com/questions/your-strengths-and-weaknesses\n",
            "https://www.interviewquery.com/questions/success-measurement\n",
            "https://www.interviewquery.com/questions/romantic-reduction\n"
          ]
        }
      ]
    },
    {
      "cell_type": "code",
      "source": [
        "# question_urls = [q.get_attribute('href') for q in question_links]\n",
        "question_urls = ['https://www.interviewquery.com/questions/disagreeing-colleagues',\n",
        " 'https://www.interviewquery.com/questions/handling-conflicts',\n",
        " 'https://www.interviewquery.com/questions/prioritizing-deadlines',\n",
        " 'https://www.interviewquery.com/questions/why-do-you-want-to-work-with-us',\n",
        " 'https://www.interviewquery.com/questions/simple-explanations',\n",
        " 'https://www.interviewquery.com/questions/hurdles-in-data-projects',\n",
        " 'https://www.interviewquery.com/questions/boosting-instagram-stories',\n",
        " 'https://www.interviewquery.com/questions/data-cleaning-experiences',\n",
        " 'https://www.interviewquery.com/questions/accessible-data',\n",
        " 'https://www.interviewquery.com/questions/presentations-and-insights',\n",
        " 'https://www.interviewquery.com/questions/stakeholder-communication',\n",
        " 'https://www.interviewquery.com/questions/exceeding-expectations',\n",
        " 'https://www.interviewquery.com/questions/your-strengths-and-weaknesses',\n",
        " 'https://www.interviewquery.com/questions/success-measurement',\n",
        " 'https://www.interviewquery.com/questions/romantic-reduction']"
      ],
      "metadata": {
        "id": "morM5oaFxuhr"
      },
      "execution_count": null,
      "outputs": []
    },
    {
      "cell_type": "code",
      "source": [
        "import time\n",
        "# Create an empty list to store the data\n",
        "questions_data = []\n",
        "driver = gs.Chrome()\n",
        "\n",
        "# Loop through each question link\n",
        "for index, question_url in enumerate(question_urls):\n",
        "    time.sleep(5)\n",
        "    # Open each question page\n",
        "    driver.get(question_url)\n",
        "    time.sleep(15)  # Wait for the page to load\n",
        "\n",
        "    # Parse the page content with BeautifulSoup\n",
        "    soup = BeautifulSoup(driver.page_source, 'html.parser')\n",
        "\n",
        "    # Extract the necessary fields\n",
        "    try:\n",
        "        question_summary = soup.find('h1').text.strip()\n",
        "        question_text = soup.find('span', class_='__Latex__').text.strip()\n",
        "        # solution_text = soup.find('div', class_='solution-text').text.strip()\n",
        "        # difficulty = soup.find('span', class_='difficulty').text.strip()  # Adjust class if needed\n",
        "    except AttributeError:\n",
        "        # Skip any question that doesn't match the expected format\n",
        "        continue\n",
        "\n",
        "    # Add the question data to the list\n",
        "    questions_data.append({\n",
        "        \"question_id\": index + 1,\n",
        "        \"question_keywords\": question_summary,\n",
        "        \"question_text\": question_text,\n",
        "        # \"solution_text\": solution_text,\n",
        "        # \"difficulty\": difficulty\n",
        "    })\n",
        "\n",
        "# Save the data to a JSON file\n",
        "with open('IQ_questions.json', 'w') as json_file:\n",
        "    json.dump(questions_data, json_file, indent=4)\n",
        "\n",
        "# Close the browser\n",
        "driver.quit()\n",
        "\n",
        "print(\"Data extracted and saved to questions_data.json\")\n"
      ],
      "metadata": {
        "colab": {
          "base_uri": "https://localhost:8080/",
          "height": 56
        },
        "id": "LOcH7Xp1pup7",
        "outputId": "b5719387-0da1-4546-f771-32b7d117f698"
      },
      "execution_count": null,
      "outputs": [
        {
          "output_type": "display_data",
          "data": {
            "text/plain": [
              "<IPython.core.display.HTML object>"
            ],
            "text/html": [
              "\n",
              "            <div class=\"spinner-container\">\n",
              "                <div class=\"spinner\" id=\"9304f7db-8d83-4eaf-8569-9cd4e0b611d1-circle\"></div>\n",
              "                <div class=\"spinner-text\" id=\"9304f7db-8d83-4eaf-8569-9cd4e0b611d1-text\">Initializing Chromedriver</div>\n",
              "            </div>\n",
              "            <style>\n",
              "                @keyframes spin {\n",
              "                    from { transform: rotate(0deg); }\n",
              "                    to { transform: rotate(360deg); }\n",
              "                }\n",
              "\n",
              "                .spinner-container {\n",
              "                    display: flex;\n",
              "                    align-items: center;\n",
              "                    margin-bottom: 3px;\n",
              "                }\n",
              "\n",
              "                .spinner {\n",
              "                    border: 3px solid rgba(0, 0, 0, 0.1);\n",
              "                    border-left-color: lightblue;\n",
              "                    border-radius: 50%;\n",
              "                    width: 12px;\n",
              "                    height: 12px;\n",
              "                    animation: spin 1s linear infinite;\n",
              "                }\n",
              "\n",
              "                .spinner-text {\n",
              "                    padding-left: 6px;\n",
              "                }\n",
              "            </style>\n",
              "        "
            ]
          },
          "metadata": {}
        },
        {
          "output_type": "display_data",
          "data": {
            "text/plain": [
              "<IPython.core.display.Javascript object>"
            ],
            "application/javascript": [
              "\n",
              "            const element = document.getElementById(\"9304f7db-8d83-4eaf-8569-9cd4e0b611d1-circle\");\n",
              "            element.style.border = \"3px solid limegreen\";\n",
              "            element.style.animation = \"none\";\n",
              "\n",
              "            const text = document.getElementById(\"9304f7db-8d83-4eaf-8569-9cd4e0b611d1-text\");\n",
              "            text.innerText = \"Initialized Chromedriver\";\n",
              "        "
            ]
          },
          "metadata": {}
        },
        {
          "output_type": "stream",
          "name": "stdout",
          "text": [
            "Data extracted and saved to questions_data.json\n"
          ]
        }
      ]
    },
    {
      "cell_type": "code",
      "source": [
        "questions_data"
      ],
      "metadata": {
        "colab": {
          "base_uri": "https://localhost:8080/"
        },
        "id": "_ziAjXabG6pI",
        "outputId": "9385b426-2297-4853-cb20-ebe4c7eb7edd"
      },
      "execution_count": null,
      "outputs": [
        {
          "output_type": "execute_result",
          "data": {
            "text/plain": [
              "[{'question_id': 1,\n",
              "  'question_keywords': 'Disagreeing Colleagues',\n",
              "  'question_text': 'Tell me a time when your colleagues did not agree with your approach. What did you do to bring them into the conversation and address their concerns?'},\n",
              " {'question_id': 2,\n",
              "  'question_keywords': 'Handling Conflicts',\n",
              "  'question_text': 'What is your approach to resolving conflict with co-workers or external stakeholders, partially when you don’t really like them?\\nGive an example of when you resolved a conflict with someone on the job.'},\n",
              " {'question_id': 3,\n",
              "  'question_keywords': 'Prioritizing Deadlines',\n",
              "  'question_text': 'How do you prioritize multiple deadlines? Additionally, how do you stay organized when you have multiple deadlines?'},\n",
              " {'question_id': 4,\n",
              "  'question_keywords': 'Why Do You Want to Work With Us',\n",
              "  'question_text': 'When an interviewer asks you a question along the lines of:\\n\\nWhy did you apply to our company?\\nWhat are you looking for in your next job?\\nWhat makes you a good fit for our company?\\n\\nHow should you respond?'},\n",
              " {'question_id': 5,\n",
              "  'question_keywords': 'Simple Explanations',\n",
              "  'question_text': 'How would you convey insights and the methods you use to a non-technical audience?'},\n",
              " {'question_id': 6,\n",
              "  'question_keywords': 'Hurdles In Data Projects',\n",
              "  'question_text': 'Describe a data project you worked on. What were some of the challenges you faced?'},\n",
              " {'question_id': 7,\n",
              "  'question_keywords': 'Boosting Instagram Stories',\n",
              "  'question_text': 'You’re a product manager at Meta. In a few weeks, there is an upcoming stakeholder meeting, and they want you to suggest a new feature for Instagram Stories. What would this feature be, and what would be the rationale behind choosing such a feature?'},\n",
              " {'question_id': 8,\n",
              "  'question_keywords': 'Data Cleaning Experiences',\n",
              "  'question_text': 'Tell me about a project in which you had to clean and organize a large dataset.'},\n",
              " {'question_id': 9,\n",
              "  'question_keywords': 'Accessible Data',\n",
              "  'question_text': 'What are some effective ways to make data more accessible to non-technical people?'},\n",
              " {'question_id': 10,\n",
              "  'question_keywords': 'Presentations and Insights',\n",
              "  'question_text': 'How comfortable are you presenting your insights?'},\n",
              " {'question_id': 11,\n",
              "  'question_keywords': 'Stakeholder Communication',\n",
              "  'question_text': 'Talk about a time when you had trouble communicating with stakeholders. How were you able to overcome it?'},\n",
              " {'question_id': 12,\n",
              "  'question_keywords': 'Exceeding Expectations',\n",
              "  'question_text': 'Tell me about a time when you exceeded expectations during a project. What did you do, and how did you accomplish it?'},\n",
              " {'question_id': 13,\n",
              "  'question_keywords': 'Your Strengths and Weaknesses',\n",
              "  'question_text': 'When an interviewer asks a question along the lines of:\\n\\nWhat would your current manager say about you? What constructive criticisms might he give?\\nWhat are your three biggest strengths and weaknesses you have identified in yourself?\\n\\nHow would you respond?'},\n",
              " {'question_id': 14,\n",
              "  'question_keywords': 'Success Measurement',\n",
              "  'question_text': 'Describe an analytics experiment that you designed. How were you able to measure success?'},\n",
              " {'question_id': 15,\n",
              "  'question_keywords': 'Romantic Reduction',\n",
              "  'question_text': 'Let’s say you work at Meta and currently Facebook allows users to specify whether or not a person is single or is in a relationship.\\nHowever, running through the reports shows that users with partners tend to make fewer posts. How would you approach tackling this issue? What might we want to do to increase engagement for this demographic?'}]"
            ]
          },
          "metadata": {},
          "execution_count": 51
        }
      ]
    },
    {
      "cell_type": "code",
      "source": [
        "# soup.find('span', class_='__Latex__').text.strip()\n",
        "soup.find('h1').text.strip()"
      ],
      "metadata": {
        "colab": {
          "base_uri": "https://localhost:8080/",
          "height": 35
        },
        "id": "taA0EseFv-Kq",
        "outputId": "11151af0-1e1d-412e-9d77-c19c5d034714"
      },
      "execution_count": null,
      "outputs": [
        {
          "output_type": "execute_result",
          "data": {
            "text/plain": [
              "'Romantic Reduction'"
            ],
            "application/vnd.google.colaboratory.intrinsic+json": {
              "type": "string"
            }
          },
          "metadata": {},
          "execution_count": 47
        }
      ]
    },
    {
      "cell_type": "code",
      "source": [
        "## indeed\n",
        "indeed_url = \"https://www.indeed.com/career-advice/interviewing/behavioral-interview-questions\"\n",
        "\n",
        "import requests\n",
        "from bs4 import BeautifulSoup\n",
        "import json\n",
        "\n",
        "\n",
        "def get_soup(url=indeed_url):\n",
        "  # Send a GET request to fetch the webpage content\n",
        "  headers = {'User-Agent': 'Mozilla/5.0 (Windows NT 10.0; Win64; x64) AppleWebKit/537.36 (KHTML, like Gecko) Chrome/58.0.3029.110 Safari/537.3'}\n",
        "  proxies = {\n",
        "  'http': 'http://10.10.1.10:3128',\n",
        "  'https': 'http://10.10.1.10:1080',}\n",
        "  response = requests.get(url, headers=headers, proxies=proxies)\n",
        "  response.raise_for_status()  # Check for request errors\n",
        "  soup = BeautifulSoup(response.text, 'html.parser')\n",
        "  return soup\n",
        "\n",
        "indeed_soup = get_soup()\n"
      ],
      "metadata": {
        "colab": {
          "base_uri": "https://localhost:8080/",
          "height": 793
        },
        "id": "OP-oyL3mwFir",
        "outputId": "d0980017-14b1-4345-964b-b0fd45b0a14f"
      },
      "execution_count": null,
      "outputs": [
        {
          "output_type": "error",
          "ename": "ProxyError",
          "evalue": "HTTPSConnectionPool(host='www.indeed.com', port=443): Max retries exceeded with url: /career-advice/interviewing/behavioral-interview-questions (Caused by ProxyError('Unable to connect to proxy', ConnectTimeoutError(<urllib3.connection.HTTPSConnection object at 0x7a3f019b2020>, 'Connection to 10.10.1.10 timed out. (connect timeout=None)')))",
          "traceback": [
            "\u001b[0;31m---------------------------------------------------------------------------\u001b[0m",
            "\u001b[0;31mTimeoutError\u001b[0m                              Traceback (most recent call last)",
            "\u001b[0;32m/usr/local/lib/python3.10/dist-packages/urllib3/connection.py\u001b[0m in \u001b[0;36m_new_conn\u001b[0;34m(self)\u001b[0m\n\u001b[1;32m    198\u001b[0m         \u001b[0;32mtry\u001b[0m\u001b[0;34m:\u001b[0m\u001b[0;34m\u001b[0m\u001b[0;34m\u001b[0m\u001b[0m\n\u001b[0;32m--> 199\u001b[0;31m             sock = connection.create_connection(\n\u001b[0m\u001b[1;32m    200\u001b[0m                 \u001b[0;34m(\u001b[0m\u001b[0mself\u001b[0m\u001b[0;34m.\u001b[0m\u001b[0m_dns_host\u001b[0m\u001b[0;34m,\u001b[0m \u001b[0mself\u001b[0m\u001b[0;34m.\u001b[0m\u001b[0mport\u001b[0m\u001b[0;34m)\u001b[0m\u001b[0;34m,\u001b[0m\u001b[0;34m\u001b[0m\u001b[0;34m\u001b[0m\u001b[0m\n",
            "\u001b[0;32m/usr/local/lib/python3.10/dist-packages/urllib3/util/connection.py\u001b[0m in \u001b[0;36mcreate_connection\u001b[0;34m(address, timeout, source_address, socket_options)\u001b[0m\n\u001b[1;32m     84\u001b[0m         \u001b[0;32mtry\u001b[0m\u001b[0;34m:\u001b[0m\u001b[0;34m\u001b[0m\u001b[0;34m\u001b[0m\u001b[0m\n\u001b[0;32m---> 85\u001b[0;31m             \u001b[0;32mraise\u001b[0m \u001b[0merr\u001b[0m\u001b[0;34m\u001b[0m\u001b[0;34m\u001b[0m\u001b[0m\n\u001b[0m\u001b[1;32m     86\u001b[0m         \u001b[0;32mfinally\u001b[0m\u001b[0;34m:\u001b[0m\u001b[0;34m\u001b[0m\u001b[0;34m\u001b[0m\u001b[0m\n",
            "\u001b[0;32m/usr/local/lib/python3.10/dist-packages/urllib3/util/connection.py\u001b[0m in \u001b[0;36mcreate_connection\u001b[0;34m(address, timeout, source_address, socket_options)\u001b[0m\n\u001b[1;32m     72\u001b[0m                 \u001b[0msock\u001b[0m\u001b[0;34m.\u001b[0m\u001b[0mbind\u001b[0m\u001b[0;34m(\u001b[0m\u001b[0msource_address\u001b[0m\u001b[0;34m)\u001b[0m\u001b[0;34m\u001b[0m\u001b[0;34m\u001b[0m\u001b[0m\n\u001b[0;32m---> 73\u001b[0;31m             \u001b[0msock\u001b[0m\u001b[0;34m.\u001b[0m\u001b[0mconnect\u001b[0m\u001b[0;34m(\u001b[0m\u001b[0msa\u001b[0m\u001b[0;34m)\u001b[0m\u001b[0;34m\u001b[0m\u001b[0;34m\u001b[0m\u001b[0m\n\u001b[0m\u001b[1;32m     74\u001b[0m             \u001b[0;31m# Break explicitly a reference cycle\u001b[0m\u001b[0;34m\u001b[0m\u001b[0;34m\u001b[0m\u001b[0m\n",
            "\u001b[0;31mTimeoutError\u001b[0m: [Errno 110] Connection timed out",
            "\nThe above exception was the direct cause of the following exception:\n",
            "\u001b[0;31mConnectTimeoutError\u001b[0m                       Traceback (most recent call last)",
            "\u001b[0;32m/usr/local/lib/python3.10/dist-packages/urllib3/connectionpool.py\u001b[0m in \u001b[0;36murlopen\u001b[0;34m(self, method, url, body, headers, retries, redirect, assert_same_host, timeout, pool_timeout, release_conn, chunked, body_pos, preload_content, decode_content, **response_kw)\u001b[0m\n\u001b[1;32m    774\u001b[0m                 \u001b[0;32mtry\u001b[0m\u001b[0;34m:\u001b[0m\u001b[0;34m\u001b[0m\u001b[0;34m\u001b[0m\u001b[0m\n\u001b[0;32m--> 775\u001b[0;31m                     \u001b[0mself\u001b[0m\u001b[0;34m.\u001b[0m\u001b[0m_prepare_proxy\u001b[0m\u001b[0;34m(\u001b[0m\u001b[0mconn\u001b[0m\u001b[0;34m)\u001b[0m\u001b[0;34m\u001b[0m\u001b[0;34m\u001b[0m\u001b[0m\n\u001b[0m\u001b[1;32m    776\u001b[0m                 \u001b[0;32mexcept\u001b[0m \u001b[0;34m(\u001b[0m\u001b[0mBaseSSLError\u001b[0m\u001b[0;34m,\u001b[0m \u001b[0mOSError\u001b[0m\u001b[0;34m,\u001b[0m \u001b[0mSocketTimeout\u001b[0m\u001b[0;34m)\u001b[0m \u001b[0;32mas\u001b[0m \u001b[0me\u001b[0m\u001b[0;34m:\u001b[0m\u001b[0;34m\u001b[0m\u001b[0;34m\u001b[0m\u001b[0m\n",
            "\u001b[0;32m/usr/local/lib/python3.10/dist-packages/urllib3/connectionpool.py\u001b[0m in \u001b[0;36m_prepare_proxy\u001b[0;34m(self, conn)\u001b[0m\n\u001b[1;32m   1043\u001b[0m         )\n\u001b[0;32m-> 1044\u001b[0;31m         \u001b[0mconn\u001b[0m\u001b[0;34m.\u001b[0m\u001b[0mconnect\u001b[0m\u001b[0;34m(\u001b[0m\u001b[0;34m)\u001b[0m\u001b[0;34m\u001b[0m\u001b[0;34m\u001b[0m\u001b[0m\n\u001b[0m\u001b[1;32m   1045\u001b[0m \u001b[0;34m\u001b[0m\u001b[0m\n",
            "\u001b[0;32m/usr/local/lib/python3.10/dist-packages/urllib3/connection.py\u001b[0m in \u001b[0;36mconnect\u001b[0;34m(self)\u001b[0m\n\u001b[1;32m    692\u001b[0m             \u001b[0msock\u001b[0m\u001b[0;34m:\u001b[0m \u001b[0msocket\u001b[0m\u001b[0;34m.\u001b[0m\u001b[0msocket\u001b[0m \u001b[0;34m|\u001b[0m \u001b[0mssl\u001b[0m\u001b[0;34m.\u001b[0m\u001b[0mSSLSocket\u001b[0m\u001b[0;34m\u001b[0m\u001b[0;34m\u001b[0m\u001b[0m\n\u001b[0;32m--> 693\u001b[0;31m             \u001b[0mself\u001b[0m\u001b[0;34m.\u001b[0m\u001b[0msock\u001b[0m \u001b[0;34m=\u001b[0m \u001b[0msock\u001b[0m \u001b[0;34m=\u001b[0m \u001b[0mself\u001b[0m\u001b[0;34m.\u001b[0m\u001b[0m_new_conn\u001b[0m\u001b[0;34m(\u001b[0m\u001b[0;34m)\u001b[0m\u001b[0;34m\u001b[0m\u001b[0;34m\u001b[0m\u001b[0m\n\u001b[0m\u001b[1;32m    694\u001b[0m             \u001b[0mserver_hostname\u001b[0m\u001b[0;34m:\u001b[0m \u001b[0mstr\u001b[0m \u001b[0;34m=\u001b[0m \u001b[0mself\u001b[0m\u001b[0;34m.\u001b[0m\u001b[0mhost\u001b[0m\u001b[0;34m\u001b[0m\u001b[0;34m\u001b[0m\u001b[0m\n",
            "\u001b[0;32m/usr/local/lib/python3.10/dist-packages/urllib3/connection.py\u001b[0m in \u001b[0;36m_new_conn\u001b[0;34m(self)\u001b[0m\n\u001b[1;32m    207\u001b[0m         \u001b[0;32mexcept\u001b[0m \u001b[0mSocketTimeout\u001b[0m \u001b[0;32mas\u001b[0m \u001b[0me\u001b[0m\u001b[0;34m:\u001b[0m\u001b[0;34m\u001b[0m\u001b[0;34m\u001b[0m\u001b[0m\n\u001b[0;32m--> 208\u001b[0;31m             raise ConnectTimeoutError(\n\u001b[0m\u001b[1;32m    209\u001b[0m                 \u001b[0mself\u001b[0m\u001b[0;34m,\u001b[0m\u001b[0;34m\u001b[0m\u001b[0;34m\u001b[0m\u001b[0m\n",
            "\u001b[0;31mConnectTimeoutError\u001b[0m: (<urllib3.connection.HTTPSConnection object at 0x7a3f019b2020>, 'Connection to 10.10.1.10 timed out. (connect timeout=None)')",
            "\nThe above exception was the direct cause of the following exception:\n",
            "\u001b[0;31mProxyError\u001b[0m                                Traceback (most recent call last)",
            "\u001b[0;31mProxyError\u001b[0m: ('Unable to connect to proxy', ConnectTimeoutError(<urllib3.connection.HTTPSConnection object at 0x7a3f019b2020>, 'Connection to 10.10.1.10 timed out. (connect timeout=None)'))",
            "\nThe above exception was the direct cause of the following exception:\n",
            "\u001b[0;31mMaxRetryError\u001b[0m                             Traceback (most recent call last)",
            "\u001b[0;32m/usr/local/lib/python3.10/dist-packages/requests/adapters.py\u001b[0m in \u001b[0;36msend\u001b[0;34m(self, request, stream, timeout, verify, cert, proxies)\u001b[0m\n\u001b[1;32m    666\u001b[0m         \u001b[0;32mtry\u001b[0m\u001b[0;34m:\u001b[0m\u001b[0;34m\u001b[0m\u001b[0;34m\u001b[0m\u001b[0m\n\u001b[0;32m--> 667\u001b[0;31m             resp = conn.urlopen(\n\u001b[0m\u001b[1;32m    668\u001b[0m                 \u001b[0mmethod\u001b[0m\u001b[0;34m=\u001b[0m\u001b[0mrequest\u001b[0m\u001b[0;34m.\u001b[0m\u001b[0mmethod\u001b[0m\u001b[0;34m,\u001b[0m\u001b[0;34m\u001b[0m\u001b[0;34m\u001b[0m\u001b[0m\n",
            "\u001b[0;32m/usr/local/lib/python3.10/dist-packages/urllib3/connectionpool.py\u001b[0m in \u001b[0;36murlopen\u001b[0;34m(self, method, url, body, headers, retries, redirect, assert_same_host, timeout, pool_timeout, release_conn, chunked, body_pos, preload_content, decode_content, **response_kw)\u001b[0m\n\u001b[1;32m    842\u001b[0m \u001b[0;34m\u001b[0m\u001b[0m\n\u001b[0;32m--> 843\u001b[0;31m             retries = retries.increment(\n\u001b[0m\u001b[1;32m    844\u001b[0m                 \u001b[0mmethod\u001b[0m\u001b[0;34m,\u001b[0m \u001b[0murl\u001b[0m\u001b[0;34m,\u001b[0m \u001b[0merror\u001b[0m\u001b[0;34m=\u001b[0m\u001b[0mnew_e\u001b[0m\u001b[0;34m,\u001b[0m \u001b[0m_pool\u001b[0m\u001b[0;34m=\u001b[0m\u001b[0mself\u001b[0m\u001b[0;34m,\u001b[0m \u001b[0m_stacktrace\u001b[0m\u001b[0;34m=\u001b[0m\u001b[0msys\u001b[0m\u001b[0;34m.\u001b[0m\u001b[0mexc_info\u001b[0m\u001b[0;34m(\u001b[0m\u001b[0;34m)\u001b[0m\u001b[0;34m[\u001b[0m\u001b[0;36m2\u001b[0m\u001b[0;34m]\u001b[0m\u001b[0;34m\u001b[0m\u001b[0;34m\u001b[0m\u001b[0m\n",
            "\u001b[0;32m/usr/local/lib/python3.10/dist-packages/urllib3/util/retry.py\u001b[0m in \u001b[0;36mincrement\u001b[0;34m(self, method, url, response, error, _pool, _stacktrace)\u001b[0m\n\u001b[1;32m    518\u001b[0m             \u001b[0mreason\u001b[0m \u001b[0;34m=\u001b[0m \u001b[0merror\u001b[0m \u001b[0;32mor\u001b[0m \u001b[0mResponseError\u001b[0m\u001b[0;34m(\u001b[0m\u001b[0mcause\u001b[0m\u001b[0;34m)\u001b[0m\u001b[0;34m\u001b[0m\u001b[0;34m\u001b[0m\u001b[0m\n\u001b[0;32m--> 519\u001b[0;31m             \u001b[0;32mraise\u001b[0m \u001b[0mMaxRetryError\u001b[0m\u001b[0;34m(\u001b[0m\u001b[0m_pool\u001b[0m\u001b[0;34m,\u001b[0m \u001b[0murl\u001b[0m\u001b[0;34m,\u001b[0m \u001b[0mreason\u001b[0m\u001b[0;34m)\u001b[0m \u001b[0;32mfrom\u001b[0m \u001b[0mreason\u001b[0m  \u001b[0;31m# type: ignore[arg-type]\u001b[0m\u001b[0;34m\u001b[0m\u001b[0;34m\u001b[0m\u001b[0m\n\u001b[0m\u001b[1;32m    520\u001b[0m \u001b[0;34m\u001b[0m\u001b[0m\n",
            "\u001b[0;31mMaxRetryError\u001b[0m: HTTPSConnectionPool(host='www.indeed.com', port=443): Max retries exceeded with url: /career-advice/interviewing/behavioral-interview-questions (Caused by ProxyError('Unable to connect to proxy', ConnectTimeoutError(<urllib3.connection.HTTPSConnection object at 0x7a3f019b2020>, 'Connection to 10.10.1.10 timed out. (connect timeout=None)')))",
            "\nDuring handling of the above exception, another exception occurred:\n",
            "\u001b[0;31mProxyError\u001b[0m                                Traceback (most recent call last)",
            "\u001b[0;32m<ipython-input-17-864e87adb936>\u001b[0m in \u001b[0;36m<cell line: 20>\u001b[0;34m()\u001b[0m\n\u001b[1;32m     18\u001b[0m   \u001b[0;32mreturn\u001b[0m \u001b[0msoup\u001b[0m\u001b[0;34m\u001b[0m\u001b[0;34m\u001b[0m\u001b[0m\n\u001b[1;32m     19\u001b[0m \u001b[0;34m\u001b[0m\u001b[0m\n\u001b[0;32m---> 20\u001b[0;31m \u001b[0mindeed_soup\u001b[0m \u001b[0;34m=\u001b[0m \u001b[0mget_soup\u001b[0m\u001b[0;34m(\u001b[0m\u001b[0;34m)\u001b[0m\u001b[0;34m\u001b[0m\u001b[0;34m\u001b[0m\u001b[0m\n\u001b[0m",
            "\u001b[0;32m<ipython-input-17-864e87adb936>\u001b[0m in \u001b[0;36mget_soup\u001b[0;34m(url)\u001b[0m\n\u001b[1;32m     13\u001b[0m   \u001b[0;34m'http'\u001b[0m\u001b[0;34m:\u001b[0m \u001b[0;34m'http://10.10.1.10:3128'\u001b[0m\u001b[0;34m,\u001b[0m\u001b[0;34m\u001b[0m\u001b[0;34m\u001b[0m\u001b[0m\n\u001b[1;32m     14\u001b[0m   'https': 'http://10.10.1.10:1080',}\n\u001b[0;32m---> 15\u001b[0;31m   \u001b[0mresponse\u001b[0m \u001b[0;34m=\u001b[0m \u001b[0mrequests\u001b[0m\u001b[0;34m.\u001b[0m\u001b[0mget\u001b[0m\u001b[0;34m(\u001b[0m\u001b[0murl\u001b[0m\u001b[0;34m,\u001b[0m \u001b[0mheaders\u001b[0m\u001b[0;34m=\u001b[0m\u001b[0mheaders\u001b[0m\u001b[0;34m,\u001b[0m \u001b[0mproxies\u001b[0m\u001b[0;34m=\u001b[0m\u001b[0mproxies\u001b[0m\u001b[0;34m)\u001b[0m\u001b[0;34m\u001b[0m\u001b[0;34m\u001b[0m\u001b[0m\n\u001b[0m\u001b[1;32m     16\u001b[0m   \u001b[0mresponse\u001b[0m\u001b[0;34m.\u001b[0m\u001b[0mraise_for_status\u001b[0m\u001b[0;34m(\u001b[0m\u001b[0;34m)\u001b[0m  \u001b[0;31m# Check for request errors\u001b[0m\u001b[0;34m\u001b[0m\u001b[0;34m\u001b[0m\u001b[0m\n\u001b[1;32m     17\u001b[0m   \u001b[0msoup\u001b[0m \u001b[0;34m=\u001b[0m \u001b[0mBeautifulSoup\u001b[0m\u001b[0;34m(\u001b[0m\u001b[0mresponse\u001b[0m\u001b[0;34m.\u001b[0m\u001b[0mtext\u001b[0m\u001b[0;34m,\u001b[0m \u001b[0;34m'html.parser'\u001b[0m\u001b[0;34m)\u001b[0m\u001b[0;34m\u001b[0m\u001b[0;34m\u001b[0m\u001b[0m\n",
            "\u001b[0;32m/usr/local/lib/python3.10/dist-packages/requests/api.py\u001b[0m in \u001b[0;36mget\u001b[0;34m(url, params, **kwargs)\u001b[0m\n\u001b[1;32m     71\u001b[0m     \"\"\"\n\u001b[1;32m     72\u001b[0m \u001b[0;34m\u001b[0m\u001b[0m\n\u001b[0;32m---> 73\u001b[0;31m     \u001b[0;32mreturn\u001b[0m \u001b[0mrequest\u001b[0m\u001b[0;34m(\u001b[0m\u001b[0;34m\"get\"\u001b[0m\u001b[0;34m,\u001b[0m \u001b[0murl\u001b[0m\u001b[0;34m,\u001b[0m \u001b[0mparams\u001b[0m\u001b[0;34m=\u001b[0m\u001b[0mparams\u001b[0m\u001b[0;34m,\u001b[0m \u001b[0;34m**\u001b[0m\u001b[0mkwargs\u001b[0m\u001b[0;34m)\u001b[0m\u001b[0;34m\u001b[0m\u001b[0;34m\u001b[0m\u001b[0m\n\u001b[0m\u001b[1;32m     74\u001b[0m \u001b[0;34m\u001b[0m\u001b[0m\n\u001b[1;32m     75\u001b[0m \u001b[0;34m\u001b[0m\u001b[0m\n",
            "\u001b[0;32m/usr/local/lib/python3.10/dist-packages/requests/api.py\u001b[0m in \u001b[0;36mrequest\u001b[0;34m(method, url, **kwargs)\u001b[0m\n\u001b[1;32m     57\u001b[0m     \u001b[0;31m# cases, and look like a memory leak in others.\u001b[0m\u001b[0;34m\u001b[0m\u001b[0;34m\u001b[0m\u001b[0m\n\u001b[1;32m     58\u001b[0m     \u001b[0;32mwith\u001b[0m \u001b[0msessions\u001b[0m\u001b[0;34m.\u001b[0m\u001b[0mSession\u001b[0m\u001b[0;34m(\u001b[0m\u001b[0;34m)\u001b[0m \u001b[0;32mas\u001b[0m \u001b[0msession\u001b[0m\u001b[0;34m:\u001b[0m\u001b[0;34m\u001b[0m\u001b[0;34m\u001b[0m\u001b[0m\n\u001b[0;32m---> 59\u001b[0;31m         \u001b[0;32mreturn\u001b[0m \u001b[0msession\u001b[0m\u001b[0;34m.\u001b[0m\u001b[0mrequest\u001b[0m\u001b[0;34m(\u001b[0m\u001b[0mmethod\u001b[0m\u001b[0;34m=\u001b[0m\u001b[0mmethod\u001b[0m\u001b[0;34m,\u001b[0m \u001b[0murl\u001b[0m\u001b[0;34m=\u001b[0m\u001b[0murl\u001b[0m\u001b[0;34m,\u001b[0m \u001b[0;34m**\u001b[0m\u001b[0mkwargs\u001b[0m\u001b[0;34m)\u001b[0m\u001b[0;34m\u001b[0m\u001b[0;34m\u001b[0m\u001b[0m\n\u001b[0m\u001b[1;32m     60\u001b[0m \u001b[0;34m\u001b[0m\u001b[0m\n\u001b[1;32m     61\u001b[0m \u001b[0;34m\u001b[0m\u001b[0m\n",
            "\u001b[0;32m/usr/local/lib/python3.10/dist-packages/requests/sessions.py\u001b[0m in \u001b[0;36mrequest\u001b[0;34m(self, method, url, params, data, headers, cookies, files, auth, timeout, allow_redirects, proxies, hooks, stream, verify, cert, json)\u001b[0m\n\u001b[1;32m    587\u001b[0m         }\n\u001b[1;32m    588\u001b[0m         \u001b[0msend_kwargs\u001b[0m\u001b[0;34m.\u001b[0m\u001b[0mupdate\u001b[0m\u001b[0;34m(\u001b[0m\u001b[0msettings\u001b[0m\u001b[0;34m)\u001b[0m\u001b[0;34m\u001b[0m\u001b[0;34m\u001b[0m\u001b[0m\n\u001b[0;32m--> 589\u001b[0;31m         \u001b[0mresp\u001b[0m \u001b[0;34m=\u001b[0m \u001b[0mself\u001b[0m\u001b[0;34m.\u001b[0m\u001b[0msend\u001b[0m\u001b[0;34m(\u001b[0m\u001b[0mprep\u001b[0m\u001b[0;34m,\u001b[0m \u001b[0;34m**\u001b[0m\u001b[0msend_kwargs\u001b[0m\u001b[0;34m)\u001b[0m\u001b[0;34m\u001b[0m\u001b[0;34m\u001b[0m\u001b[0m\n\u001b[0m\u001b[1;32m    590\u001b[0m \u001b[0;34m\u001b[0m\u001b[0m\n\u001b[1;32m    591\u001b[0m         \u001b[0;32mreturn\u001b[0m \u001b[0mresp\u001b[0m\u001b[0;34m\u001b[0m\u001b[0;34m\u001b[0m\u001b[0m\n",
            "\u001b[0;32m/usr/local/lib/python3.10/dist-packages/requests/sessions.py\u001b[0m in \u001b[0;36msend\u001b[0;34m(self, request, **kwargs)\u001b[0m\n\u001b[1;32m    701\u001b[0m \u001b[0;34m\u001b[0m\u001b[0m\n\u001b[1;32m    702\u001b[0m         \u001b[0;31m# Send the request\u001b[0m\u001b[0;34m\u001b[0m\u001b[0;34m\u001b[0m\u001b[0m\n\u001b[0;32m--> 703\u001b[0;31m         \u001b[0mr\u001b[0m \u001b[0;34m=\u001b[0m \u001b[0madapter\u001b[0m\u001b[0;34m.\u001b[0m\u001b[0msend\u001b[0m\u001b[0;34m(\u001b[0m\u001b[0mrequest\u001b[0m\u001b[0;34m,\u001b[0m \u001b[0;34m**\u001b[0m\u001b[0mkwargs\u001b[0m\u001b[0;34m)\u001b[0m\u001b[0;34m\u001b[0m\u001b[0;34m\u001b[0m\u001b[0m\n\u001b[0m\u001b[1;32m    704\u001b[0m \u001b[0;34m\u001b[0m\u001b[0m\n\u001b[1;32m    705\u001b[0m         \u001b[0;31m# Total elapsed time of the request (approximately)\u001b[0m\u001b[0;34m\u001b[0m\u001b[0;34m\u001b[0m\u001b[0m\n",
            "\u001b[0;32m/usr/local/lib/python3.10/dist-packages/requests/adapters.py\u001b[0m in \u001b[0;36msend\u001b[0;34m(self, request, stream, timeout, verify, cert, proxies)\u001b[0m\n\u001b[1;32m    692\u001b[0m \u001b[0;34m\u001b[0m\u001b[0m\n\u001b[1;32m    693\u001b[0m             \u001b[0;32mif\u001b[0m \u001b[0misinstance\u001b[0m\u001b[0;34m(\u001b[0m\u001b[0me\u001b[0m\u001b[0;34m.\u001b[0m\u001b[0mreason\u001b[0m\u001b[0;34m,\u001b[0m \u001b[0m_ProxyError\u001b[0m\u001b[0;34m)\u001b[0m\u001b[0;34m:\u001b[0m\u001b[0;34m\u001b[0m\u001b[0;34m\u001b[0m\u001b[0m\n\u001b[0;32m--> 694\u001b[0;31m                 \u001b[0;32mraise\u001b[0m \u001b[0mProxyError\u001b[0m\u001b[0;34m(\u001b[0m\u001b[0me\u001b[0m\u001b[0;34m,\u001b[0m \u001b[0mrequest\u001b[0m\u001b[0;34m=\u001b[0m\u001b[0mrequest\u001b[0m\u001b[0;34m)\u001b[0m\u001b[0;34m\u001b[0m\u001b[0;34m\u001b[0m\u001b[0m\n\u001b[0m\u001b[1;32m    695\u001b[0m \u001b[0;34m\u001b[0m\u001b[0m\n\u001b[1;32m    696\u001b[0m             \u001b[0;32mif\u001b[0m \u001b[0misinstance\u001b[0m\u001b[0;34m(\u001b[0m\u001b[0me\u001b[0m\u001b[0;34m.\u001b[0m\u001b[0mreason\u001b[0m\u001b[0;34m,\u001b[0m \u001b[0m_SSLError\u001b[0m\u001b[0;34m)\u001b[0m\u001b[0;34m:\u001b[0m\u001b[0;34m\u001b[0m\u001b[0;34m\u001b[0m\u001b[0m\n",
            "\u001b[0;31mProxyError\u001b[0m: HTTPSConnectionPool(host='www.indeed.com', port=443): Max retries exceeded with url: /career-advice/interviewing/behavioral-interview-questions (Caused by ProxyError('Unable to connect to proxy', ConnectTimeoutError(<urllib3.connection.HTTPSConnection object at 0x7a3f019b2020>, 'Connection to 10.10.1.10 timed out. (connect timeout=None)')))"
          ]
        }
      ]
    },
    {
      "cell_type": "code",
      "source": [
        "import google_colab_selenium as gs\n",
        "\n",
        "driver = gs.Chrome()\n",
        "\n",
        "# Open the webpage\n",
        "driver.get(indeed_url)"
      ],
      "metadata": {
        "colab": {
          "base_uri": "https://localhost:8080/",
          "height": 38
        },
        "id": "07-Mo2s9r2ks",
        "outputId": "89711f00-f87c-4f92-be27-e773994b1254"
      },
      "execution_count": null,
      "outputs": [
        {
          "output_type": "display_data",
          "data": {
            "text/plain": [
              "<IPython.core.display.HTML object>"
            ],
            "text/html": [
              "\n",
              "            <div class=\"spinner-container\">\n",
              "                <div class=\"spinner\" id=\"1a9170d2-5274-4585-b7aa-4d5ef360e2dc-circle\"></div>\n",
              "                <div class=\"spinner-text\" id=\"1a9170d2-5274-4585-b7aa-4d5ef360e2dc-text\">Initializing Chromedriver</div>\n",
              "            </div>\n",
              "            <style>\n",
              "                @keyframes spin {\n",
              "                    from { transform: rotate(0deg); }\n",
              "                    to { transform: rotate(360deg); }\n",
              "                }\n",
              "\n",
              "                .spinner-container {\n",
              "                    display: flex;\n",
              "                    align-items: center;\n",
              "                    margin-bottom: 3px;\n",
              "                }\n",
              "\n",
              "                .spinner {\n",
              "                    border: 3px solid rgba(0, 0, 0, 0.1);\n",
              "                    border-left-color: lightblue;\n",
              "                    border-radius: 50%;\n",
              "                    width: 12px;\n",
              "                    height: 12px;\n",
              "                    animation: spin 1s linear infinite;\n",
              "                }\n",
              "\n",
              "                .spinner-text {\n",
              "                    padding-left: 6px;\n",
              "                }\n",
              "            </style>\n",
              "        "
            ]
          },
          "metadata": {}
        },
        {
          "output_type": "display_data",
          "data": {
            "text/plain": [
              "<IPython.core.display.Javascript object>"
            ],
            "application/javascript": [
              "\n",
              "            const element = document.getElementById(\"1a9170d2-5274-4585-b7aa-4d5ef360e2dc-circle\");\n",
              "            element.style.border = \"3px solid limegreen\";\n",
              "            element.style.animation = \"none\";\n",
              "\n",
              "            const text = document.getElementById(\"1a9170d2-5274-4585-b7aa-4d5ef360e2dc-text\");\n",
              "            text.innerText = \"Initialized Chromedriver\";\n",
              "        "
            ]
          },
          "metadata": {}
        }
      ]
    },
    {
      "cell_type": "code",
      "source": [
        "soup = BeautifulSoup(driver.page_source, \"html.parser\")"
      ],
      "metadata": {
        "id": "8xikCMAuywPC"
      },
      "execution_count": null,
      "outputs": []
    },
    {
      "cell_type": "code",
      "source": [
        "soup.find('h2')#, class=\"rich-text-component css-wsn4op e1tiznh50\").text"
      ],
      "metadata": {
        "id": "xqUd4XYerhSM"
      },
      "execution_count": null,
      "outputs": []
    },
    {
      "cell_type": "code",
      "source": [
        "from selenium.webdriver.common.by import By"
      ],
      "metadata": {
        "id": "iDwykf6v00kq"
      },
      "execution_count": null,
      "outputs": []
    },
    {
      "cell_type": "code",
      "source": [
        "driver.find_elements(By.TAG_NAME, \"h3\")"
      ],
      "metadata": {
        "colab": {
          "base_uri": "https://localhost:8080/"
        },
        "id": "ZE-oL4dDuBvX",
        "outputId": "05ecabf9-4484-48fd-ea3e-8448839e1e7f"
      },
      "execution_count": null,
      "outputs": [
        {
          "output_type": "execute_result",
          "data": {
            "text/plain": [
              "[]"
            ]
          },
          "metadata": {},
          "execution_count": 39
        }
      ]
    },
    {
      "cell_type": "code",
      "source": [],
      "metadata": {
        "id": "z_OOlRV-zLCm"
      },
      "execution_count": null,
      "outputs": []
    }
  ]
}